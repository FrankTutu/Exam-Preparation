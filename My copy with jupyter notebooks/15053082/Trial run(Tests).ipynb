{
 "cells": [
  {
   "cell_type": "code",
   "execution_count": 2,
   "metadata": {},
   "outputs": [
    {
     "data": {
      "text/plain": [
       "'C:\\\\Users\\\\Kavin\\\\Desktop\\\\MSci Physics, UCL\\\\Year 4 Physics\\\\Research Software with Python\\\\Courserwork_1\\\\My copy with jupyter notebooks\\\\15053082'"
      ]
     },
     "execution_count": 2,
     "metadata": {},
     "output_type": "execute_result"
    }
   ],
   "source": [
    "%pwd"
   ]
  },
  {
   "cell_type": "code",
   "execution_count": 3,
   "metadata": {},
   "outputs": [
    {
     "name": "stdout",
     "output_type": "stream",
     "text": [
      " Volume in drive C is Windows\n",
      " Volume Serial Number is F6D8-54D8\n",
      "\n",
      " Directory of C:\\Users\\Kavin\\Desktop\\MSci Physics, UCL\\Year 4 Physics\\Research Software with Python\\Courserwork_1\\My copy with jupyter notebooks\\15053082\n",
      "\n",
      "12/19/2018  09:57 PM    <DIR>          .\n",
      "12/19/2018  09:57 PM    <DIR>          ..\n",
      "12/19/2018  09:57 PM    <DIR>          .git\n",
      "12/19/2018  09:57 PM    <DIR>          .ipynb_checkpoints\n",
      "12/19/2018  09:57 PM    <DIR>          .pytest_cache\n",
      "12/19/2018  09:57 PM    <DIR>          __pycache__\n",
      "12/19/2018  09:57 PM    <DIR>          alchemist\n",
      "12/19/2018  09:57 PM    <DIR>          alchemist.egg-info\n",
      "12/18/2018  04:47 PM                64 alchemist.yaml\n",
      "12/19/2018  09:57 PM    <DIR>          alchemist_potion_master.egg-info\n",
      "12/19/2018  09:57 PM    <DIR>          build\n",
      "12/19/2018  01:43 PM               208 CITATION.md\n",
      "12/19/2018  02:16 PM            23,976 Coursework1.ipynb\n",
      "12/19/2018  09:57 PM    <DIR>          dist\n",
      "12/19/2018  01:43 PM               107 LICENSE.md\n",
      "12/19/2018  09:57 PM    <DIR>          Potion_Master.egg-info\n",
      "12/19/2018  01:43 PM               260 README.md\n",
      "12/19/2018  09:43 PM               331 setup.py\n",
      "12/19/2018  02:38 PM            21,831 Trial run (Laboratory and command files).ipynb\n",
      "12/19/2018  12:53 PM             9,440 Trial run(Tests).ipynb\n",
      "               8 File(s)         56,217 bytes\n",
      "              12 Dir(s)  854,863,446,016 bytes free\n"
     ]
    }
   ],
   "source": [
    "%ls"
   ]
  },
  {
   "cell_type": "code",
   "execution_count": 4,
   "metadata": {},
   "outputs": [
    {
     "name": "stdout",
     "output_type": "stream",
     "text": [
      "C:\\Users\\Kavin\\Desktop\\MSci Physics, UCL\\Year 4 Physics\\Research Software with Python\\Courserwork_1\\My copy with jupyter notebooks\\15053082\\alchemist\n"
     ]
    }
   ],
   "source": [
    "%cd alchemist"
   ]
  },
  {
   "cell_type": "code",
   "execution_count": 14,
   "metadata": {},
   "outputs": [],
   "source": [
    "!mkdir test"
   ]
  },
  {
   "cell_type": "code",
   "execution_count": 17,
   "metadata": {},
   "outputs": [
    {
     "name": "stdout",
     "output_type": "stream",
     "text": [
      " Volume in drive C is Windows\n",
      " Volume Serial Number is F6D8-54D8\n",
      "\n",
      " Directory of C:\\Users\\Kavin\\Desktop\\MSci Physics, UCL\\Year 4 Physics\\Research Software with Python\\Courserwork_1\\15053082\\alchemist\n",
      "\n",
      "12/18/2018  05:02 PM    <DIR>          .\n",
      "12/18/2018  05:02 PM    <DIR>          ..\n",
      "12/12/2018  03:23 PM    <DIR>          .ipynb_checkpoints\n",
      "12/14/2018  11:03 AM                58 __init__.py\n",
      "12/07/2018  07:35 PM    <DIR>          __pycache__\n",
      "12/11/2018  12:09 PM                64 alchemist.yaml\n",
      "12/18/2018  04:54 PM               669 command.py\n",
      "12/18/2018  04:50 PM             2,114 laboratory.py\n",
      "12/18/2018  05:02 PM    <DIR>          test\n",
      "               4 File(s)          2,905 bytes\n",
      "               5 Dir(s)  858,439,360,512 bytes free\n"
     ]
    }
   ],
   "source": [
    "%ls"
   ]
  },
  {
   "cell_type": "code",
   "execution_count": 3,
   "metadata": {},
   "outputs": [
    {
     "name": "stdout",
     "output_type": "stream",
     "text": [
      "Overwriting tests/__init__.py\n"
     ]
    }
   ],
   "source": [
    "%%writefile tests/__init__.py\n",
    "from ..laboratory import Laboratory\n",
    "import random\n",
    "from pytest import raises\n",
    "import yaml"
   ]
  },
  {
   "cell_type": "code",
   "execution_count": 5,
   "metadata": {},
   "outputs": [
    {
     "name": "stdout",
     "output_type": "stream",
     "text": [
      "Overwriting tests/fixtures.yaml\n"
     ]
    }
   ],
   "source": [
    "%%writefile tests/fixtures.yaml\n",
    "not_2_shelves:\n",
    "    lowap:\n",
    "        - antia\n",
    "        - b\n",
    "    upper:\n",
    "        - a\n",
    "        - b\n",
    "    lower:\n",
    "        - antia\n",
    "        - antib\n"
   ]
  },
  {
   "cell_type": "code",
   "execution_count": 6,
   "metadata": {},
   "outputs": [
    {
     "name": "stdout",
     "output_type": "stream",
     "text": [
      "C:\\Users\\Kavin\\Desktop\\MSci Physics, UCL\\Year 4 Physics\\Research Software with Python\\Courserwork_1\\My copy with jupyter notebooks\\15053082\\alchemist\\tests\n"
     ]
    }
   ],
   "source": [
    "%cd tests"
   ]
  },
  {
   "cell_type": "code",
   "execution_count": 36,
   "metadata": {},
   "outputs": [
    {
     "name": "stdout",
     "output_type": "stream",
     "text": [
      " Volume in drive C is Windows\n",
      " Volume Serial Number is F6D8-54D8\n",
      "\n",
      " Directory of C:\\Users\\Kavin\\Desktop\\MSci Physics, UCL\\Year 4 Physics\\Research Software with Python\\Courserwork_1\\15053082\\alchemist\\tests\n",
      "\n",
      "12/18/2018  05:40 PM    <DIR>          .\n",
      "12/18/2018  05:40 PM    <DIR>          ..\n",
      "12/18/2018  05:09 PM                50 __init__.py\n",
      "12/18/2018  05:56 PM               244 fixtures.yaml\n",
      "12/18/2018  05:17 PM               244 fixtures.yml\n",
      "               3 File(s)            538 bytes\n",
      "               2 Dir(s)  858,423,062,528 bytes free\n"
     ]
    }
   ],
   "source": [
    "%ls"
   ]
  },
  {
   "cell_type": "code",
   "execution_count": 8,
   "metadata": {},
   "outputs": [],
   "source": [
    "import yaml\n",
    "file = open('fixtures.yaml', 'r')\n",
    "file1=yaml.load(file)"
   ]
  },
  {
   "cell_type": "code",
   "execution_count": 11,
   "metadata": {},
   "outputs": [
    {
     "data": {
      "text/plain": [
       "{'lowap': ['antia', 'b'], 'upper': ['a', 'b'], 'lower': ['antia', 'antib']}"
      ]
     },
     "execution_count": 11,
     "metadata": {},
     "output_type": "execute_result"
    }
   ],
   "source": [
    "file1['not_2_shelves']"
   ]
  },
  {
   "cell_type": "code",
   "execution_count": 44,
   "metadata": {},
   "outputs": [
    {
     "data": {
      "text/plain": [
       "{'lower': ['antia', 'b'], 'upper': ['a', 'b']}"
      ]
     },
     "execution_count": 44,
     "metadata": {},
     "output_type": "execute_result"
    }
   ],
   "source": [
    "file1['file_1']"
   ]
  },
  {
   "cell_type": "code",
   "execution_count": 25,
   "metadata": {},
   "outputs": [
    {
     "name": "stdout",
     "output_type": "stream",
     "text": [
      "Overwriting tests/test_laboratory.py\n"
     ]
    }
   ],
   "source": [
    "%%writefile tests/test_laboratory.py\n",
    "\n",
    "from pytest import raises\n",
    "import yaml\n",
    "from ..laboratory import Laboratory\n",
    "import os\n",
    "\n",
    "with open(os.path.join(os.path.dirname(__file__),'fixtures.yaml')) as file:\n",
    "    fixtures=yaml.load(file)\n",
    "\n",
    "def test_number_of_shelves():\n",
    "    with raises(TypeError) as exception: \n",
    "        Laboratory(fixtures['not_2_shelves'])\n"
   ]
  },
  {
   "cell_type": "code",
   "execution_count": null,
   "metadata": {},
   "outputs": [],
   "source": []
  }
 ],
 "metadata": {
  "kernelspec": {
   "display_name": "Python 3",
   "language": "python",
   "name": "python3"
  },
  "language_info": {
   "codemirror_mode": {
    "name": "ipython",
    "version": 3
   },
   "file_extension": ".py",
   "mimetype": "text/x-python",
   "name": "python",
   "nbconvert_exporter": "python",
   "pygments_lexer": "ipython3",
   "version": "3.7.0"
  }
 },
 "nbformat": 4,
 "nbformat_minor": 2
}
