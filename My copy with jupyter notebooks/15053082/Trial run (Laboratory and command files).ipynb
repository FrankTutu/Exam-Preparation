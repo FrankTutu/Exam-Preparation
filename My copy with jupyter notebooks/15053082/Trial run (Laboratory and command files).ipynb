{
 "cells": [
  {
   "cell_type": "code",
   "execution_count": 13,
   "metadata": {},
   "outputs": [
    {
     "name": "stdout",
     "output_type": "stream",
     "text": [
      "running develop\n",
      "running egg_info\n",
      "writing Potion_Master.egg-info\\PKG-INFO\n",
      "writing dependency_links to Potion_Master.egg-info\\dependency_links.txt\n",
      "writing entry points to Potion_Master.egg-info\\entry_points.txt\n",
      "writing requirements to Potion_Master.egg-info\\requires.txt\n",
      "writing top-level names to Potion_Master.egg-info\\top_level.txt\n",
      "reading manifest file 'Potion_Master.egg-info\\SOURCES.txt'\n",
      "writing manifest file 'Potion_Master.egg-info\\SOURCES.txt'\n",
      "running build_ext\n",
      "Creating c:\\users\\kavin\\anaconda3\\lib\\site-packages\\Potion-Master.egg-link (link to .)\n",
      "Removing potion-master 0.0.1 from easy-install.pth file\n",
      "Adding Potion-Master 0.0.1 to easy-install.pth file\n",
      "Installing abracadabra-script.py script to C:\\Users\\Kavin\\Anaconda3\\Scripts\n",
      "Installing abracadabra.exe script to C:\\Users\\Kavin\\Anaconda3\\Scripts\n",
      "\n",
      "Installed c:\\users\\kavin\\desktop\\msci physics, ucl\\year 4 physics\\research software with python\\courserwork_1\\15053082\n",
      "Processing dependencies for Potion-Master==0.0.1\n",
      "Searching for argparse==1.4.0\n",
      "Best match: argparse 1.4.0\n",
      "Processing argparse-1.4.0-py3.7.egg\n",
      "argparse 1.4.0 is already the active version in easy-install.pth\n",
      "\n",
      "Using c:\\users\\kavin\\anaconda3\\lib\\site-packages\\argparse-1.4.0-py3.7.egg\n",
      "Finished processing dependencies for Potion-Master==0.0.1\n"
     ]
    }
   ],
   "source": [
    "!python setup.py develop"
   ]
  },
  {
   "cell_type": "code",
   "execution_count": 12,
   "metadata": {},
   "outputs": [
    {
     "data": {
      "text/plain": [
       "'antia'"
      ]
     },
     "execution_count": 12,
     "metadata": {},
     "output_type": "execute_result"
    }
   ],
   "source": [
    "lower = [\"antia\",\"b\",\"antic\"]\n",
    "upper = [\"a\",\"b\",\"c\"]\n",
    "lower[0]"
   ]
  },
  {
   "cell_type": "code",
   "execution_count": 3,
   "metadata": {},
   "outputs": [
    {
     "name": "stdout",
     "output_type": "stream",
     "text": [
      "Total number of reactions: 2\n",
      "Final contents\n",
      "\t - lower:['b']\n",
      "\t - upper:['b']\n"
     ]
    }
   ],
   "source": [
    "from alchemist.laboratory import Laboratory\n",
    "k2=Laboratory()\n",
    "result2=k2.run_full_experiment(lower,upper)\n",
    "print(\"Final contents\\n\\t - lower:{}\\n\\t - upper:{}\".format(*result2))"
   ]
  },
  {
   "cell_type": "code",
   "execution_count": 4,
   "metadata": {},
   "outputs": [
    {
     "name": "stdout",
     "output_type": "stream",
     "text": [
      "Total number of reactions: 0\n"
     ]
    }
   ],
   "source": [
    "!abra lower upper"
   ]
  },
  {
   "cell_type": "markdown",
   "metadata": {},
   "source": [
    "#### From this identified, something is wrong with my command.py file. Let's take it's content and see if it's parsing the arguments right."
   ]
  },
  {
   "cell_type": "code",
   "execution_count": 18,
   "metadata": {},
   "outputs": [
    {
     "name": "stdout",
     "output_type": "stream",
     "text": [
      "Overwriting prog.py\n"
     ]
    }
   ],
   "source": [
    "%%writefile prog.py\n",
    "\n",
    "from argparse import ArgumentParser\n",
    "from alchemist.laboratory import Laboratory # Note python 3 relative import\n",
    "\n",
    " \n",
    "parser = ArgumentParser(description=\"Potion Master Trial\")\n",
    "\n",
    "parser.add_argument('lower')\n",
    "parser.add_argument('upper')\n",
    "arguments = parser.parse_args()\n",
    "\n",
    "print(type(arguments.lower))\n",
    "print(arguments.lower)\n",
    "print(arguments.upper)\n",
    "lab3=Laboratory(arguments.lower,arguments.upper)\n",
    "final3=lab3.run_full_experiment(arguments.lower,arguments.upper)\n",
    "   \n"
   ]
  },
  {
   "cell_type": "code",
   "execution_count": 19,
   "metadata": {},
   "outputs": [
    {
     "name": "stdout",
     "output_type": "stream",
     "text": [
      "<class 'str'>\n",
      "[antia,b,antic]\n",
      "[a,b,c]\n",
      "Total number of reactions: 0\n"
     ]
    }
   ],
   "source": [
    "!python prog.py [\"antia\",\"b\",\"antic\"] [\"a\",\"b\",\"c\"]"
   ]
  },
  {
   "cell_type": "code",
   "execution_count": 20,
   "metadata": {},
   "outputs": [
    {
     "name": "stdout",
     "output_type": "stream",
     "text": [
      "<class 'str'>\n",
      "lower\n",
      "upper\n",
      "Total number of reactions: 0\n"
     ]
    }
   ],
   "source": [
    "lower = [\"antia\",\"b\",\"antic\"]\n",
    "upper = [\"a\",\"b\",\"c\"]\n",
    "\n",
    "!python prog.py lower upper"
   ]
  },
  {
   "cell_type": "code",
   "execution_count": 21,
   "metadata": {},
   "outputs": [
    {
     "name": "stdout",
     "output_type": "stream",
     "text": [
      "Total number of reactions: 2\n",
      "Final contents\n",
      "\t - lower:['b']\n",
      "\t - upper:['b']\n"
     ]
    }
   ],
   "source": [
    "from alchemist.laboratory import Laboratory\n",
    "k4=Laboratory()\n",
    "result4=k4.run_full_experiment(lower, upper)\n",
    "print(\"Final contents\\n\\t - lower:{}\\n\\t - upper:{}\".format(*result4))"
   ]
  },
  {
   "cell_type": "code",
   "execution_count": 63,
   "metadata": {},
   "outputs": [
    {
     "name": "stdout",
     "output_type": "stream",
     "text": [
      "Overwriting alchemist.yaml\n"
     ]
    }
   ],
   "source": [
    "%%writefile alchemist.yaml\n",
    "\n",
    "lower:\n",
    "    - 'antia'\n",
    "    - 'b'\n",
    "    - 'antic'\n",
    "upper:\n",
    "    - 'a'\n",
    "    - 'b'\n",
    "    - 'c'"
   ]
  },
  {
   "cell_type": "code",
   "execution_count": 26,
   "metadata": {},
   "outputs": [
    {
     "name": "stdout",
     "output_type": "stream",
     "text": [
      "{'lower': ['antia', 'b', 'antic'], 'upper': ['a', 'b', 'c']}\n"
     ]
    }
   ],
   "source": [
    "import yaml\n",
    "shelves = yaml.load(open(\"alchemist.yaml\"))\n",
    "print(shelves)"
   ]
  },
  {
   "cell_type": "code",
   "execution_count": 28,
   "metadata": {},
   "outputs": [
    {
     "data": {
      "text/plain": [
       "['antia', 'b', 'antic']"
      ]
     },
     "execution_count": 28,
     "metadata": {},
     "output_type": "execute_result"
    }
   ],
   "source": [
    "shelves['lower']"
   ]
  },
  {
   "cell_type": "code",
   "execution_count": 30,
   "metadata": {},
   "outputs": [
    {
     "name": "stdout",
     "output_type": "stream",
     "text": [
      "Total number of reactions: 2\n",
      "Final contents\n",
      "\t - lower:['b']\n",
      "\t - upper:['b']\n"
     ]
    }
   ],
   "source": [
    "from alchemist.laboratory import Laboratory\n",
    "k5=Laboratory()\n",
    "result5=k5.run_full_experiment(shelves['upper'], shelves['lower'])\n",
    "print(\"Final contents\\n\\t - lower:{}\\n\\t - upper:{}\".format(*result5))"
   ]
  },
  {
   "cell_type": "code",
   "execution_count": 31,
   "metadata": {},
   "outputs": [
    {
     "name": "stdout",
     "output_type": "stream",
     "text": [
      "<class 'str'>\n",
      "shelves['upper']\n",
      "shelves['lower']\n",
      "Total number of reactions: 0\n"
     ]
    }
   ],
   "source": [
    "!python prog.py shelves['upper'] shelves['lower']"
   ]
  },
  {
   "cell_type": "code",
   "execution_count": 82,
   "metadata": {},
   "outputs": [],
   "source": [
    "import random\n",
    "\n",
    "class Kavinlaboratory:\n",
    "    def __init__(self, filename):\n",
    "        self.filename = filename\n",
    "        self.shelf1 = filename['lower']\n",
    "        self.shelf2 = filename['upper']\n",
    "        \n",
    "    def can_react(self,substance1, substance2):\n",
    "        return (substance1 == \"anti\" + substance2) or (substance2 == \"anti\" + substance1)\n",
    "\n",
    "    def update_shelves(self, shelf1, shelf2, substance1, substance2_index):\n",
    "        index1 = shelf1.index(substance1)\n",
    "        shelf1 = shelf1[:index1] + shelf1[index1+1:]\n",
    "        shelf2 = shelf2[:substance2_index] + shelf2[substance2_index+1:]\n",
    "        return shelf1, shelf2\n",
    "\n",
    "    def do_a_reaction(self, shelf1=None, shelf2=None):\n",
    "        \n",
    "        for substance1 in shelf1:\n",
    "            possible_targets = [i for i, target in enumerate(shelf2) if self.can_react(substance1, target)]\n",
    "            if not possible_targets:\n",
    "                continue\n",
    "            else:\n",
    "                substance2_index = random.choice(possible_targets)\n",
    "                return self.update_shelves(shelf1, shelf2, substance1, substance2_index)\n",
    "        return shelf1, shelf2\n",
    "    \n",
    "           \n",
    "    def run_full_experiment(self, reaction=None):\n",
    "        count = 0\n",
    "        ended = False\n",
    "        shelf1 = self.shelf1\n",
    "        shelf2 = self.shelf2\n",
    "        \n",
    "        if len(shelf1) == 0:\n",
    "            print(\"Your lower shelf is empty!\")\n",
    "        if len(shelf2) == 0:\n",
    "            print(\"Your upper shelf is empty!\")\n",
    "            \n",
    "        while not ended:\n",
    "            shelf1_new, shelf2_new = self.do_a_reaction(shelf1, shelf2)    \n",
    "            if shelf1_new != shelf1:\n",
    "                count += 1 \n",
    "            ended = (shelf1_new == shelf1) and (shelf2_new == shelf2)\n",
    "            shelf1, shelf2 = shelf1_new, shelf2_new\n",
    "        return shelf1, shelf2, count\n",
    "    \n",
    "    def total_reactions(self):\n",
    "        k1,k2,k3 = self.run_full_experiment()\n",
    "        print(\"Total number of reactions: {}\".format(k3))\n",
    "               \n",
    "    def print_final_shelves(self):\n",
    "        k1,k2,k3 = self.run_full_experiment()\n",
    "        print(\"Final contents\\n\\t - lower:{}\\n\\t - upper:{}\".format(k1,k2))"
   ]
  },
  {
   "cell_type": "code",
   "execution_count": 83,
   "metadata": {},
   "outputs": [
    {
     "name": "stdout",
     "output_type": "stream",
     "text": [
      "{'lower': ['antia', 'b', 'antic'], 'upper': ['a', 'b', 'c']}\n"
     ]
    }
   ],
   "source": [
    "import yaml\n",
    "shelves = yaml.load(open(\"alchemist.yaml\"))\n",
    "print(shelves)"
   ]
  },
  {
   "cell_type": "code",
   "execution_count": 84,
   "metadata": {},
   "outputs": [
    {
     "name": "stdout",
     "output_type": "stream",
     "text": [
      "Total number of reactions: 2\n",
      "Final contents\n",
      "\t - lower:['b']\n",
      "\t - upper:['b']\n"
     ]
    }
   ],
   "source": [
    "trial = Kavinlaboratory(shelves)\n",
    "final = trial.run_full_experiment()\n",
    "final2 = trial.total_reactions()\n",
    "final1 = trial.print_final_shelves()\n"
   ]
  },
  {
   "cell_type": "code",
   "execution_count": 85,
   "metadata": {},
   "outputs": [
    {
     "name": "stdout",
     "output_type": "stream",
     "text": [
      "Overwriting KavinLabTrial.py\n"
     ]
    }
   ],
   "source": [
    "%%writefile KavinLabTrial.py\n",
    "\n",
    "import random\n",
    "\n",
    "class Kavinlaboratory:\n",
    "    def __init__(self, filename):\n",
    "        self.filename = filename\n",
    "        self.shelf1 = filename['lower']\n",
    "        self.shelf2 = filename['upper']\n",
    "        \n",
    "    def can_react(self,substance1, substance2):\n",
    "        return (substance1 == \"anti\" + substance2) or (substance2 == \"anti\" + substance1)\n",
    "\n",
    "    def update_shelves(self, shelf1, shelf2, substance1, substance2_index):\n",
    "        index1 = shelf1.index(substance1)\n",
    "        shelf1 = shelf1[:index1] + shelf1[index1+1:]\n",
    "        shelf2 = shelf2[:substance2_index] + shelf2[substance2_index+1:]\n",
    "        return shelf1, shelf2\n",
    "\n",
    "    def do_a_reaction(self, shelf1=None, shelf2=None):\n",
    "        \n",
    "        for substance1 in shelf1:\n",
    "            possible_targets = [i for i, target in enumerate(shelf2) if self.can_react(substance1, target)]\n",
    "            if not possible_targets:\n",
    "                continue\n",
    "            else:\n",
    "                substance2_index = random.choice(possible_targets)\n",
    "                return self.update_shelves(shelf1, shelf2, substance1, substance2_index)\n",
    "        return shelf1, shelf2\n",
    "    \n",
    "           \n",
    "    def run_full_experiment(self, reaction=None):\n",
    "        count = 0\n",
    "        ended = False\n",
    "        shelf1 = self.shelf1\n",
    "        shelf2 = self.shelf2\n",
    "        \n",
    "        if len(shelf1) == 0:\n",
    "            print(\"Your lower shelf is empty!\")\n",
    "        if len(shelf2) == 0:\n",
    "            print(\"Your upper shelf is empty!\")\n",
    "            \n",
    "        while not ended:\n",
    "            shelf1_new, shelf2_new = self.do_a_reaction(shelf1, shelf2)    \n",
    "            if shelf1_new != shelf1:\n",
    "                count += 1 \n",
    "            ended = (shelf1_new == shelf1) and (shelf2_new == shelf2)\n",
    "            shelf1, shelf2 = shelf1_new, shelf2_new\n",
    "        return shelf1, shelf2, count\n",
    "    \n",
    "    def total_reactions(self):\n",
    "        k1,k2,k3 = self.run_full_experiment()\n",
    "        print(\"Total number of reactions: {}\".format(k3))\n",
    "               \n",
    "    def print_final_shelves(self):\n",
    "        k1,k2,k3 = self.run_full_experiment()\n",
    "        print(\"Final contents\\n\\t - lower:{}\\n\\t - upper:{}\".format(k1,k2))"
   ]
  },
  {
   "cell_type": "code",
   "execution_count": 88,
   "metadata": {},
   "outputs": [
    {
     "name": "stdout",
     "output_type": "stream",
     "text": [
      "Overwriting progfilename.py\n"
     ]
    }
   ],
   "source": [
    "%%writefile progfilename.py\n",
    "\n",
    "from argparse import ArgumentParser\n",
    "from KavinLabTrial import Kavinlaboratory # Note python 3 relative import\n",
    "import yaml\n",
    "\n",
    "parser = ArgumentParser(description=\"Potion Master Trial\")\n",
    "parser.add_argument('filename')\n",
    "parser.add_argument('--reactions', action = \"store_true\")\n",
    "arguments = parser.parse_args()\n",
    "\n",
    "shelves = yaml.load(open(arguments.filename))\n",
    "print(shelves)\n",
    "\n",
    "trial = Kavinlaboratory(shelves)\n",
    "final = trial.run_full_experiment()\n",
    "final2 = trial.total_reactions()\n",
    "\n",
    "if arguments.reactions:\n",
    "    final1 = trial.print_final_shelves()"
   ]
  },
  {
   "cell_type": "code",
   "execution_count": 3,
   "metadata": {},
   "outputs": [
    {
     "name": "stdout",
     "output_type": "stream",
     "text": [
      "{'lower': ['antia', 'b', 'antic'], 'upper': ['a', 'b', 'c']}\n",
      "Total number of reactions: 2\n",
      "Final contents\n",
      "\t - lower:['b']\n",
      "\t - upper:['b']\n"
     ]
    }
   ],
   "source": [
    "!python progfilename.py --reactions alchemist.yaml"
   ]
  },
  {
   "cell_type": "markdown",
   "metadata": {},
   "source": [
    "How to open a file which is not in the same directory? Different folder?"
   ]
  },
  {
   "cell_type": "code",
   "execution_count": 2,
   "metadata": {},
   "outputs": [
    {
     "name": "stdout",
     "output_type": "stream",
     "text": [
      "Total number of reactions: 1\n"
     ]
    }
   ],
   "source": [
    "!abracadabra --r alchemist.yaml"
   ]
  },
  {
   "cell_type": "code",
   "execution_count": 26,
   "metadata": {},
   "outputs": [
    {
     "name": "stdout",
     "output_type": "stream",
     "text": [
      " Volume in drive C is Windows\n",
      " Volume Serial Number is F6D8-54D8\n",
      "\n",
      " Directory of C:\\Users\\Kavin\\Desktop\\MSci Physics, UCL\\Year 4 Physics\\Research Software with Python\\Courserwork_1\\15053082\n",
      "\n",
      "12/14/2018  11:59 AM    <DIR>          .\n",
      "12/14/2018  11:59 AM    <DIR>          ..\n",
      "12/14/2018  11:33 AM    <DIR>          .ipynb_checkpoints\n",
      "12/12/2018  05:53 PM    <DIR>          __pycache__\n",
      "12/14/2018  11:54 AM    <DIR>          alchemist\n",
      "12/08/2018  01:44 PM    <DIR>          build\n",
      "12/14/2018  11:20 AM            18,247 Coursework1.ipynb\n",
      "12/08/2018  01:44 PM    <DIR>          dist\n",
      "12/12/2018  05:48 PM             2,114 KavinLabTrial.py\n",
      "12/08/2018  01:44 PM    <DIR>          Potion_Master.egg-info\n",
      "12/12/2018  05:53 PM               553 progfilename.py\n",
      "12/14/2018  11:51 AM               295 setup.py\n",
      "12/14/2018  11:59 AM            20,422 Trial run.ipynb\n",
      "12/14/2018  11:26 AM             4,763 Untitled.ipynb\n",
      "               6 File(s)         46,394 bytes\n",
      "               8 Dir(s)  839,805,734,912 bytes free\n"
     ]
    }
   ],
   "source": [
    "%ls"
   ]
  },
  {
   "cell_type": "code",
   "execution_count": 27,
   "metadata": {},
   "outputs": [
    {
     "name": "stdout",
     "output_type": "stream",
     "text": [
      "rm 'KavinLabTrial.py'\n",
      "rm 'progfilename.py'\n"
     ]
    }
   ],
   "source": [
    "!git rm -r KavinLabTrial.py\n",
    "!git rm -r progfilename.py"
   ]
  },
  {
   "cell_type": "code",
   "execution_count": 12,
   "metadata": {},
   "outputs": [
    {
     "name": "stdout",
     "output_type": "stream",
     "text": [
      "[master fda0fec] Minor changes to the output of abracadabra on command.py and laboratory.py\n",
      " 6 files changed, 82 insertions(+), 24 deletions(-)\n",
      " rewrite dist/Potion_Master-0.0.1-py3.7.egg (81%)\n"
     ]
    },
    {
     "name": "stderr",
     "output_type": "stream",
     "text": [
      "warning: LF will be replaced by CRLF in Potion_Master.egg-info/SOURCES.txt.\n",
      "The file will have its original line endings in your working directory\n",
      "warning: LF will be replaced by CRLF in Potion_Master.egg-info/dependency_links.txt.\n",
      "The file will have its original line endings in your working directory\n",
      "warning: LF will be replaced by CRLF in Potion_Master.egg-info/entry_points.txt.\n",
      "The file will have its original line endings in your working directory\n",
      "warning: LF will be replaced by CRLF in Potion_Master.egg-info/requires.txt.\n",
      "The file will have its original line endings in your working directory\n",
      "warning: LF will be replaced by CRLF in Potion_Master.egg-info/top_level.txt.\n",
      "The file will have its original line endings in your working directory\n",
      "warning: LF will be replaced by CRLF in Trial run.ipynb.\n",
      "The file will have its original line endings in your working directory\n",
      "warning: LF will be replaced by CRLF in alchemist/command.py.\n",
      "The file will have its original line endings in your working directory\n",
      "warning: LF will be replaced by CRLF in alchemist/laboratory.py.\n",
      "The file will have its original line endings in your working directory\n",
      "warning: LF will be replaced by CRLF in build/lib/alchemist/command.py.\n",
      "The file will have its original line endings in your working directory\n",
      "warning: LF will be replaced by CRLF in build/lib/alchemist/laboratory.py.\n",
      "The file will have its original line endings in your working directory\n"
     ]
    }
   ],
   "source": [
    "!git commit -am \"Minor changes to the output of abracadabra on command.py and laboratory.py\""
   ]
  },
  {
   "cell_type": "code",
   "execution_count": 5,
   "metadata": {},
   "outputs": [
    {
     "name": "stdout",
     "output_type": "stream",
     "text": [
      "============================= test session starts =============================\n",
      "platform win32 -- Python 3.7.0, pytest-3.8.0, py-1.6.0, pluggy-0.7.1\n",
      "rootdir: C:\\Users\\Kavin\\Desktop\\MSci Physics, UCL\\Year 4 Physics\\Research Software with Python\\Courserwork_1\\15053082, inifile:\n",
      "plugins: remotedata-0.3.0, openfiles-0.3.0, doctestplus-0.1.3, arraydiff-0.2\n",
      "collected 1 item\n",
      "\n",
      "alchemist\\tests\\test_laboratory.py .                                     [100%]\n",
      "\n",
      "============================== warnings summary ===============================\n",
      "C:\\Users\\Kavin\\Anaconda3\\lib\\site-packages\\yaml\\constructor.py:126: DeprecationWarning: Using or importing the ABCs from 'collections' instead of from 'collections.abc' is deprecated, and in 3.8 it will stop working\n",
      "  if not isinstance(key, collections.Hashable):\n",
      "\n",
      "-- Docs: https://docs.pytest.org/en/latest/warnings.html\n",
      "==================== 1 passed, 1 warnings in 0.24 seconds =====================\n"
     ]
    }
   ],
   "source": [
    "!pytest"
   ]
  },
  {
   "cell_type": "code",
   "execution_count": null,
   "metadata": {},
   "outputs": [],
   "source": []
  }
 ],
 "metadata": {
  "kernelspec": {
   "display_name": "Python 3",
   "language": "python",
   "name": "python3"
  },
  "language_info": {
   "codemirror_mode": {
    "name": "ipython",
    "version": 3
   },
   "file_extension": ".py",
   "mimetype": "text/x-python",
   "name": "python",
   "nbconvert_exporter": "python",
   "pygments_lexer": "ipython3",
   "version": "3.7.0"
  }
 },
 "nbformat": 4,
 "nbformat_minor": 2
}
