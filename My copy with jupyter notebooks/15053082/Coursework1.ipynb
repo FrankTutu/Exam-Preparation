{
 "cells": [
  {
   "cell_type": "markdown",
   "metadata": {},
   "source": [
    "#### Defining the library"
   ]
  },
  {
   "cell_type": "code",
   "execution_count": 4,
   "metadata": {},
   "outputs": [
    {
     "name": "stdout",
     "output_type": "stream",
     "text": [
      "Total number of reactions: 3\n",
      "Final contents\n",
      "\t - lower:['antieycholra', 'psittaccina']\n",
      "\t - upper:['alcea', 'antiinvolucrata', 'campanula']\n"
     ]
    }
   ],
   "source": [
    "merlins = {\n",
    "    'lower': ['involucrata', 'serpyllum', 'antifirma', 'antieycholra', 'psittaccina'],\n",
    "    'upper': ['alcea', 'antiinvolucrata', 'campanula', 'antiserpyllum', 'antiinvolucrata', 'firma'],    \n",
    "}\n",
    "\n",
    "\n",
    "import random\n",
    "\n",
    "\n",
    "\n",
    "def can_react(substance1, substance2):\n",
    "    return (substance1 == \"anti\" + substance2) or (substance2 == \"anti\" + substance1)\n",
    "\n",
    "def update_shelves(shelf1, shelf2, substance1, substance2_index):\n",
    "    index1 = shelf1.index(substance1)\n",
    "    shelf1 = shelf1[:index1] + shelf1[index1+1:]\n",
    "    shelf2 = shelf2[:substance2_index] + shelf2[substance2_index+1:]\n",
    "    return shelf1, shelf2\n",
    "\n",
    "def do_a_reaction(shelf1, shelf2):\n",
    "    for substance1 in shelf1:\n",
    "        possible_targets = [i for i, target in enumerate(shelf2) if can_react(substance1, target)]\n",
    "        if not possible_targets:\n",
    "            continue\n",
    "        else:\n",
    "            substance2_index = random.choice(possible_targets)\n",
    "        return update_shelves(shelf1, shelf2, substance1, substance2_index)\n",
    "    return shelf1, shelf2\n",
    "\n",
    "def run_full_experiment(shelf1, shelf2):\n",
    "    count = 0\n",
    "    ended = False\n",
    "    while not ended:\n",
    "        shelf1_new, shelf2_new = do_a_reaction(shelf1, shelf2)    \n",
    "        if shelf1_new != shelf1:\n",
    "            count += 1 \n",
    "        ended = (shelf1_new == shelf1) and (shelf2_new == shelf2)\n",
    "        shelf1, shelf2 = shelf1_new, shelf2_new\n",
    "    print(\"Total number of reactions: {}\".format(count))\n",
    "    return shelf1, shelf2\n",
    "\n",
    "lower_shelf = merlins['lower']\n",
    "upper_shelf = merlins['upper']\n",
    "\n",
    "final_shelves = run_full_experiment(lower_shelf, upper_shelf)\n",
    "print(\"Final contents\\n\\t - lower:{}\\n\\t - upper:{}\".format(*final_shelves))\n"
   ]
  },
  {
   "cell_type": "markdown",
   "metadata": {},
   "source": [
    "#### Attempt to put the code into a class called Laboratory"
   ]
  },
  {
   "cell_type": "code",
   "execution_count": 3,
   "metadata": {},
   "outputs": [
    {
     "name": "stdout",
     "output_type": "stream",
     "text": [
      "Total number of reactions: 3\n"
     ]
    }
   ],
   "source": [
    "merlins = {\n",
    "    'lower': ['involucrata', 'serpyllum', 'antifirma', 'antieycholra', 'psittaccina'],\n",
    "    'upper': ['alcea', 'antiinvolucrata', 'campanula', 'antiserpyllum', 'antiinvolucrata', 'firma'],    \n",
    "}\n",
    "\n",
    "lower_shelf = merlins['lower']\n",
    "upper_shelf = merlins['upper']\n",
    "\n",
    "import random\n",
    "\n",
    "class Laboratory:\n",
    "    def __init__(self, shelf1=[], shelf2=[]):\n",
    "        self.shelf1 = shelf1\n",
    "        self.shelf2 = shelf2\n",
    "        \n",
    "    def can_react(self,substance1, substance2):\n",
    "        return (substance1 == \"anti\" + substance2) or (substance2 == \"anti\" + substance1)\n",
    "\n",
    "    def update_shelves(self, shelf1, shelf2, substance1, substance2_index):\n",
    "        index1 = shelf1.index(substance1)\n",
    "        shelf1 = shelf1[:index1] + shelf1[index1+1:]\n",
    "        shelf2 = shelf2[:substance2_index] + shelf2[substance2_index+1:]\n",
    "        return shelf1, shelf2\n",
    "\n",
    "    def do_a_reaction(self, shelf1=None, shelf2=None):\n",
    "        \n",
    "        for substance1 in shelf1:\n",
    "            possible_targets = [i for i, target in enumerate(shelf2) if self.can_react(substance1, target)]\n",
    "            if not possible_targets:\n",
    "                continue\n",
    "            else:\n",
    "                substance2_index = random.choice(possible_targets)\n",
    "                return self.update_shelves(shelf1, shelf2, substance1, substance2_index)\n",
    "        return shelf1, shelf2\n",
    "\n",
    "    def run_full_experiment(self,shelf1, shelf2):\n",
    "        count = 0\n",
    "        ended = False\n",
    "        while not ended:\n",
    "            shelf1_new, shelf2_new = self.do_a_reaction(shelf1, shelf2)    \n",
    "            if shelf1_new != shelf1:\n",
    "                count += 1 \n",
    "            ended = (shelf1_new == shelf1) and (shelf2_new == shelf2)\n",
    "            shelf1, shelf2 = shelf1_new, shelf2_new\n",
    "        print(\"Total number of reactions: {}\".format(count))\n",
    "        return shelf1, shelf2\n",
    "\n",
    "\n",
    "#final_shelves = Laboratory.run_full_experiment(lower_shelf, upper_shelf)\n",
    "#print(\"Final contents\\n\\t - lower:{}\\n\\t - upper:{}\".format(*final_shelves))\n",
    "\n",
    "trial = Laboratory()\n",
    "final = trial.run_full_experiment(lower_shelf, upper_shelf)\n",
    "#print(\"Final contents\\n\\t - lower:{}\\n\\t - upper:{}\".format(*final))"
   ]
  },
  {
   "cell_type": "code",
   "execution_count": 23,
   "metadata": {},
   "outputs": [],
   "source": [
    "import os\n",
    "if 'alchemist' not in os.listdir(os.getcwd()):\n",
    "    os.mkdir('alchemist')"
   ]
  },
  {
   "cell_type": "code",
   "execution_count": 1,
   "metadata": {},
   "outputs": [
    {
     "name": "stdout",
     "output_type": "stream",
     "text": [
      "Overwriting alchemist/__init__.py\n"
     ]
    }
   ],
   "source": [
    "%%writefile alchemist/__init__.py\n",
    "from alchemist.laboratory import Laboratory\n",
    "import random"
   ]
  },
  {
   "cell_type": "code",
   "execution_count": 3,
   "metadata": {
    "scrolled": true
   },
   "outputs": [
    {
     "data": {
      "text/plain": [
       "'C:\\\\Users\\\\Kavin\\\\Desktop\\\\MSci Physics, UCL\\\\Year 4 Physics\\\\Research Software with Python\\\\Courserwork_1\\\\15053082'"
      ]
     },
     "execution_count": 3,
     "metadata": {},
     "output_type": "execute_result"
    }
   ],
   "source": [
    "%pwd"
   ]
  },
  {
   "cell_type": "code",
   "execution_count": 2,
   "metadata": {},
   "outputs": [
    {
     "name": "stdout",
     "output_type": "stream",
     "text": [
      "Overwriting setup.py\n"
     ]
    }
   ],
   "source": [
    "%%writefile setup.py\n",
    "\n",
    "from setuptools import setup, find_packages\n",
    "\n",
    "setup(\n",
    "    name=\"Potion Master\",\n",
    "    version=\"0.0.1\",\n",
    "    #packages=find_packages(exclude=['*test']),\n",
    "    install_requires=['argparse'],\n",
    "    entry_points={\n",
    "        'console_scripts': [\n",
    "            'abracadabra = alchemist.command:abra'\n",
    "        ]})"
   ]
  },
  {
   "cell_type": "code",
   "execution_count": 3,
   "metadata": {
    "scrolled": true
   },
   "outputs": [
    {
     "name": "stdout",
     "output_type": "stream",
     "text": [
      "Overwriting alchemist/command.py\n"
     ]
    }
   ],
   "source": [
    "%%writefile alchemist/command.py\n",
    "\n",
    "from argparse import ArgumentParser\n",
    "from .laboratory import Laboratory # Note python 3 relative import\n",
    "import yaml\n",
    "\n",
    "def abra():   \n",
    "    \n",
    "    parser = ArgumentParser(description=\"Potion Master Trial\")\n",
    "    parser.add_argument('filename')\n",
    "    parser.add_argument('--reactions', action = \"store_true\")\n",
    "    arguments = parser.parse_args()\n",
    "\n",
    "    shelves = yaml.load(open(arguments.filename))\n",
    "\n",
    "    initial = Kavinlaboratory(shelves)\n",
    "    final = trial.run_full_experiment()\n",
    "    reaction_number = trial.total_reactions()\n",
    "\n",
    "    if arguments.reactions:\n",
    "        final_shelves = trial.print_final_shelves()\n",
    "            \n",
    "if __name__ == \"__main__\":\n",
    "    abra()"
   ]
  },
  {
   "cell_type": "code",
   "execution_count": 4,
   "metadata": {},
   "outputs": [
    {
     "name": "stderr",
     "output_type": "stream",
     "text": [
      "Traceback (most recent call last):\n",
      "  File \"C:\\Users\\Kavin\\Anaconda3\\Scripts\\abra-script.py\", line 11, in <module>\n",
      "    load_entry_point('Potion-Master==0.0.1', 'console_scripts', 'abra')()\n",
      "  File \"C:\\Users\\Kavin\\Anaconda3\\lib\\site-packages\\pkg_resources\\__init__.py\", line 484, in load_entry_point\n",
      "    return get_distribution(dist).load_entry_point(group, name)\n",
      "  File \"C:\\Users\\Kavin\\Anaconda3\\lib\\site-packages\\pkg_resources\\__init__.py\", line 2706, in load_entry_point\n",
      "    raise ImportError(\"Entry point %r not found\" % ((group, name),))\n",
      "ImportError: Entry point ('console_scripts', 'abra') not found\n"
     ]
    }
   ],
   "source": [
    "!abra --help"
   ]
  },
  {
   "cell_type": "code",
   "execution_count": 5,
   "metadata": {},
   "outputs": [
    {
     "name": "stdout",
     "output_type": "stream",
     "text": [
      "Overwriting alchemist/laboratory.py\n"
     ]
    }
   ],
   "source": [
    "%%writefile alchemist/laboratory.py\n",
    "\n",
    "import random\n",
    "\n",
    "class Laboratory:\n",
    "    def __init__(self, filename):\n",
    "        self.filename = filename\n",
    "        self.shelf1 = filename['lower']\n",
    "        self.shelf2 = filename['upper']\n",
    "        \n",
    "    def can_react(self,substance1, substance2):\n",
    "        return (substance1 == \"anti\" + substance2) or (substance2 == \"anti\" + substance1)\n",
    "\n",
    "    def update_shelves(self, shelf1, shelf2, substance1, substance2_index):\n",
    "        index1 = shelf1.index(substance1)\n",
    "        shelf1 = shelf1[:index1] + shelf1[index1+1:]\n",
    "        shelf2 = shelf2[:substance2_index] + shelf2[substance2_index+1:]\n",
    "        return shelf1, shelf2\n",
    "\n",
    "    def do_a_reaction(self, shelf1=None, shelf2=None):\n",
    "        \n",
    "        for substance1 in shelf1:\n",
    "            possible_targets = [i for i, target in enumerate(shelf2) if self.can_react(substance1, target)]\n",
    "            if not possible_targets:\n",
    "                continue\n",
    "            else:\n",
    "                substance2_index = random.choice(possible_targets)\n",
    "                return self.update_shelves(shelf1, shelf2, substance1, substance2_index)\n",
    "        return shelf1, shelf2\n",
    "    \n",
    "           \n",
    "    def run_full_experiment(self, reaction=None):\n",
    "        count = 0\n",
    "        ended = False\n",
    "        shelf1 = self.shelf1\n",
    "        shelf2 = self.shelf2\n",
    "        \n",
    "        if len(shelf1) == 0:\n",
    "            print(\"Your lower shelf is empty!\")\n",
    "        if len(shelf2) == 0:\n",
    "            print(\"Your upper shelf is empty!\")\n",
    "            \n",
    "        while not ended:\n",
    "            shelf1_new, shelf2_new = self.do_a_reaction(shelf1, shelf2)    \n",
    "            if shelf1_new != shelf1:\n",
    "                count += 1 \n",
    "            ended = (shelf1_new == shelf1) and (shelf2_new == shelf2)\n",
    "            shelf1, shelf2 = shelf1_new, shelf2_new\n",
    "        return shelf1, shelf2, count\n",
    "    \n",
    "    def total_reactions(self):\n",
    "        k1,k2,k3 = self.run_full_experiment()\n",
    "        print(\"Total number of reactions: {}\".format(k3))\n",
    "               \n",
    "    def print_final_shelves(self):\n",
    "        k1,k2,k3 = self.run_full_experiment()\n",
    "        print(\"Final contents\\n\\t - lower:{}\\n\\t - upper:{}\".format(k1,k2))"
   ]
  },
  {
   "cell_type": "code",
   "execution_count": 6,
   "metadata": {},
   "outputs": [
    {
     "name": "stderr",
     "output_type": "stream",
     "text": [
      "usage: setup.py [global_opts] cmd1 [cmd1_opts] [cmd2 [cmd2_opts] ...]\n",
      "   or: setup.py --help [cmd1 cmd2 ...]\n",
      "   or: setup.py --help-commands\n",
      "   or: setup.py cmd --help\n",
      "\n",
      "error: invalid command 'uninstall'\n"
     ]
    }
   ],
   "source": [
    "!python setup.py uninstall"
   ]
  },
  {
   "cell_type": "code",
   "execution_count": 1,
   "metadata": {},
   "outputs": [
    {
     "name": "stderr",
     "output_type": "stream",
     "text": [
      "Traceback (most recent call last):\n",
      "  File \"C:\\Users\\Kavin\\Anaconda3\\lib\\site-packages\\pkg_resources\\__init__.py\", line 2333, in resolve\n",
      "    return functools.reduce(getattr, self.attrs, module)\n",
      "AttributeError: module 'alchemist.command' has no attribute 'abra'\n",
      "\n",
      "During handling of the above exception, another exception occurred:\n",
      "\n",
      "Traceback (most recent call last):\n",
      "  File \"C:\\Users\\Kavin\\Anaconda3\\Scripts\\abracadabra-script.py\", line 11, in <module>\n",
      "    load_entry_point('Potion-Master==0.0.1', 'console_scripts', 'abracadabra')()\n",
      "  File \"C:\\Users\\Kavin\\Anaconda3\\lib\\site-packages\\pkg_resources\\__init__.py\", line 484, in load_entry_point\n",
      "    return get_distribution(dist).load_entry_point(group, name)\n",
      "  File \"C:\\Users\\Kavin\\Anaconda3\\lib\\site-packages\\pkg_resources\\__init__.py\", line 2707, in load_entry_point\n",
      "    return ep.load()\n",
      "  File \"C:\\Users\\Kavin\\Anaconda3\\lib\\site-packages\\pkg_resources\\__init__.py\", line 2325, in load\n",
      "    return self.resolve()\n",
      "  File \"C:\\Users\\Kavin\\Anaconda3\\lib\\site-packages\\pkg_resources\\__init__.py\", line 2335, in resolve\n",
      "    raise ImportError(str(exc))\n",
      "ImportError: module 'alchemist.command' has no attribute 'abra'\n"
     ]
    }
   ],
   "source": [
    "!abracadabra -h"
   ]
  },
  {
   "cell_type": "code",
   "execution_count": 1,
   "metadata": {},
   "outputs": [
    {
     "name": "stdout",
     "output_type": "stream",
     "text": [
      "[master bce1de7] Modified setup.py and added 1 test\n",
      " 11 files changed, 16 insertions(+), 1589 deletions(-)\n",
      " delete mode 100644 .ipynb_checkpoints/Trial run-checkpoint.ipynb\n",
      " delete mode 100644 .ipynb_checkpoints/Untitled-checkpoint.ipynb\n",
      " delete mode 100644 Trial run.ipynb\n",
      " delete mode 100644 Untitled.ipynb\n",
      " rewrite alchemist/__pycache__/laboratory.cpython-37.pyc (85%)\n",
      " delete mode 100644 alchemist/alchemist.yaml\n"
     ]
    },
    {
     "name": "stderr",
     "output_type": "stream",
     "text": [
      "warning: LF will be replaced by CRLF in Coursework1.ipynb.\n",
      "The file will have its original line endings in your working directory\n",
      "warning: LF will be replaced by CRLF in Potion_Master.egg-info/SOURCES.txt.\n",
      "The file will have its original line endings in your working directory\n",
      "warning: LF will be replaced by CRLF in Potion_Master.egg-info/dependency_links.txt.\n",
      "The file will have its original line endings in your working directory\n",
      "warning: LF will be replaced by CRLF in Potion_Master.egg-info/entry_points.txt.\n",
      "The file will have its original line endings in your working directory\n",
      "warning: LF will be replaced by CRLF in Potion_Master.egg-info/requires.txt.\n",
      "The file will have its original line endings in your working directory\n",
      "warning: LF will be replaced by CRLF in Potion_Master.egg-info/top_level.txt.\n",
      "The file will have its original line endings in your working directory\n",
      "warning: LF will be replaced by CRLF in alchemist/laboratory.py.\n",
      "The file will have its original line endings in your working directory\n",
      "warning: LF will be replaced by CRLF in setup.py.\n",
      "The file will have its original line endings in your working directory\n"
     ]
    }
   ],
   "source": [
    "!git commit -am \"Modified setup.py and added 1 test\""
   ]
  },
  {
   "cell_type": "code",
   "execution_count": 3,
   "metadata": {},
   "outputs": [
    {
     "name": "stdout",
     "output_type": "stream",
     "text": [
      "Writing README.md\n"
     ]
    }
   ],
   "source": [
    "%%writefile README.md\n",
    "\n",
    "Greetings!\n",
    "==========\n",
    "\n",
    "This is a very simple example package used as part of the UCL\n",
    "[Research Software Engineering with Python](development.rc.ucl.ac.uk/training/engineering) course.\n",
    "\n",
    "Usage:\n",
    "    \n",
    "Invoke the tool with `greet <FirstName> <Secondname>`"
   ]
  },
  {
   "cell_type": "code",
   "execution_count": 4,
   "metadata": {},
   "outputs": [
    {
     "name": "stdout",
     "output_type": "stream",
     "text": [
      "Writing LICENSE.md\n"
     ]
    }
   ],
   "source": [
    "%%writefile LICENSE.md\n",
    "\n",
    "(C) University College London 2014\n",
    "\n",
    "This \"greetings\" example package is granted into the public domain."
   ]
  },
  {
   "cell_type": "code",
   "execution_count": 5,
   "metadata": {},
   "outputs": [
    {
     "name": "stdout",
     "output_type": "stream",
     "text": [
      "Writing CITATION.md\n"
     ]
    }
   ],
   "source": [
    "%%writefile CITATION.md\n",
    "\n",
    "If you wish to refer to this course, please cite the URL\n",
    "http://github-pages.ucl.ac.uk/rsd-engineeringcourse/\n",
    "\n",
    "Portions of the material are taken from [Software Carpentry](http://software-carpentry.org/)"
   ]
  },
  {
   "cell_type": "code",
   "execution_count": 8,
   "metadata": {},
   "outputs": [
    {
     "name": "stdout",
     "output_type": "stream",
     "text": [
      "running install\n",
      "running bdist_egg\n",
      "running egg_info\n",
      "writing Potion_Master.egg-info\\PKG-INFO\n",
      "writing dependency_links to Potion_Master.egg-info\\dependency_links.txt\n",
      "writing entry points to Potion_Master.egg-info\\entry_points.txt\n",
      "writing requirements to Potion_Master.egg-info\\requires.txt\n",
      "writing top-level names to Potion_Master.egg-info\\top_level.txt\n",
      "reading manifest file 'Potion_Master.egg-info\\SOURCES.txt'\n",
      "writing manifest file 'Potion_Master.egg-info\\SOURCES.txt'\n",
      "installing library code to build\\bdist.win-amd64\\egg\n",
      "running install_lib\n",
      "running build_py\n",
      "copying alchemist\\laboratory.py -> build\\lib\\alchemist\n",
      "creating build\\lib\\alchemist\\tests\n",
      "copying alchemist\\tests\\test_laboratory.py -> build\\lib\\alchemist\\tests\n",
      "copying alchemist\\tests\\__init__.py -> build\\lib\\alchemist\\tests\n",
      "creating build\\bdist.win-amd64\\egg\n",
      "creating build\\bdist.win-amd64\\egg\\alchemist\n",
      "copying build\\lib\\alchemist\\command.py -> build\\bdist.win-amd64\\egg\\alchemist\n",
      "copying build\\lib\\alchemist\\laboratory.py -> build\\bdist.win-amd64\\egg\\alchemist\n",
      "copying build\\lib\\alchemist\\prog.py -> build\\bdist.win-amd64\\egg\\alchemist\n",
      "creating build\\bdist.win-amd64\\egg\\alchemist\\tests\n",
      "copying build\\lib\\alchemist\\tests\\test_laboratory.py -> build\\bdist.win-amd64\\egg\\alchemist\\tests\n",
      "copying build\\lib\\alchemist\\tests\\__init__.py -> build\\bdist.win-amd64\\egg\\alchemist\\tests\n",
      "copying build\\lib\\alchemist\\__init__.py -> build\\bdist.win-amd64\\egg\\alchemist\n",
      "byte-compiling build\\bdist.win-amd64\\egg\\alchemist\\command.py to command.cpython-37.pyc\n",
      "byte-compiling build\\bdist.win-amd64\\egg\\alchemist\\laboratory.py to laboratory.cpython-37.pyc\n",
      "byte-compiling build\\bdist.win-amd64\\egg\\alchemist\\prog.py to prog.cpython-37.pyc\n",
      "byte-compiling build\\bdist.win-amd64\\egg\\alchemist\\tests\\test_laboratory.py to test_laboratory.cpython-37.pyc\n",
      "byte-compiling build\\bdist.win-amd64\\egg\\alchemist\\tests\\__init__.py to __init__.cpython-37.pyc\n",
      "byte-compiling build\\bdist.win-amd64\\egg\\alchemist\\__init__.py to __init__.cpython-37.pyc\n",
      "creating build\\bdist.win-amd64\\egg\\EGG-INFO\n",
      "copying Potion_Master.egg-info\\PKG-INFO -> build\\bdist.win-amd64\\egg\\EGG-INFO\n",
      "copying Potion_Master.egg-info\\SOURCES.txt -> build\\bdist.win-amd64\\egg\\EGG-INFO\n",
      "copying Potion_Master.egg-info\\dependency_links.txt -> build\\bdist.win-amd64\\egg\\EGG-INFO\n",
      "copying Potion_Master.egg-info\\entry_points.txt -> build\\bdist.win-amd64\\egg\\EGG-INFO\n",
      "copying Potion_Master.egg-info\\requires.txt -> build\\bdist.win-amd64\\egg\\EGG-INFO\n",
      "copying Potion_Master.egg-info\\top_level.txt -> build\\bdist.win-amd64\\egg\\EGG-INFO\n",
      "creating 'dist\\Potion_Master-0.0.3-py3.7.egg' and adding 'build\\bdist.win-amd64\\egg' to it\n",
      "removing 'build\\bdist.win-amd64\\egg' (and everything under it)\n",
      "Processing Potion_Master-0.0.3-py3.7.egg\n",
      "creating c:\\users\\kavin\\anaconda3\\lib\\site-packages\\Potion_Master-0.0.3-py3.7.egg\n",
      "Extracting Potion_Master-0.0.3-py3.7.egg to c:\\users\\kavin\\anaconda3\\lib\\site-packages\n",
      "Adding Potion-Master 0.0.3 to easy-install.pth file\n",
      "Installing abracadabra-script.py script to C:\\Users\\Kavin\\Anaconda3\\Scripts\n",
      "Installing abracadabra.exe script to C:\\Users\\Kavin\\Anaconda3\\Scripts\n",
      "\n",
      "Installed c:\\users\\kavin\\anaconda3\\lib\\site-packages\\potion_master-0.0.3-py3.7.egg\n",
      "Processing dependencies for Potion-Master==0.0.3\n",
      "Searching for PyYAML==3.13\n",
      "Best match: PyYAML 3.13\n",
      "Adding PyYAML 3.13 to easy-install.pth file\n",
      "\n",
      "Using c:\\users\\kavin\\anaconda3\\lib\\site-packages\n",
      "Searching for argparse==1.4.0\n",
      "Best match: argparse 1.4.0\n",
      "Processing argparse-1.4.0-py3.7.egg\n",
      "argparse 1.4.0 is already the active version in easy-install.pth\n",
      "\n",
      "Using c:\\users\\kavin\\anaconda3\\lib\\site-packages\\argparse-1.4.0-py3.7.egg\n",
      "Finished processing dependencies for Potion-Master==0.0.3\n",
      "writing list of installed files to 'files.txt'\n"
     ]
    },
    {
     "name": "stderr",
     "output_type": "stream",
     "text": [
      "zip_safe flag not set; analyzing archive contents...\n",
      "alchemist.tests.__pycache__.test_laboratory.cpython-37: module references __file__\n"
     ]
    }
   ],
   "source": [
    "!python setup.py install --record files.txt"
   ]
  },
  {
   "cell_type": "code",
   "execution_count": 18,
   "metadata": {},
   "outputs": [
    {
     "name": "stderr",
     "output_type": "stream",
     "text": [
      "(null): can't open file 'uninstall': [Errno 2] No such file or directory\n"
     ]
    }
   ],
   "source": [
    "!python uninstall"
   ]
  },
  {
   "cell_type": "code",
   "execution_count": null,
   "metadata": {},
   "outputs": [],
   "source": []
  }
 ],
 "metadata": {
  "kernelspec": {
   "display_name": "Python 3",
   "language": "python",
   "name": "python3"
  },
  "language_info": {
   "codemirror_mode": {
    "name": "ipython",
    "version": 3
   },
   "file_extension": ".py",
   "mimetype": "text/x-python",
   "name": "python",
   "nbconvert_exporter": "python",
   "pygments_lexer": "ipython3",
   "version": "3.7.0"
  }
 },
 "nbformat": 4,
 "nbformat_minor": 2
}
